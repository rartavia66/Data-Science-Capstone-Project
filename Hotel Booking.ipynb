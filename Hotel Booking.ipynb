{
 "cells": [
  {
   "cell_type": "markdown",
   "metadata": {},
   "source": [
    "Carga de las librerías a utilizar en el Notebook"
   ]
  },
  {
   "cell_type": "code",
   "execution_count": 1,
   "metadata": {},
   "outputs": [],
   "source": [
    "# Básicas para el trabajo de los datos\n",
    "import numpy as np\n",
    "import pandas as pd\n",
    "import scipy\n",
    "from math import sqrt\n",
    "import matplotlib.pyplot as plt\n",
    "\n",
    "# Estimadores Clasificación\n",
    "from sklearn.svm import SVC\n",
    "from sklearn.ensemble import RandomForestClassifier\n",
    "from sklearn.linear_model import RidgeClassifier\n",
    "\n",
    "# Métricas del modelo\n",
    "from sklearn.metrics import mean_squared_error\n",
    "from sklearn.metrics import r2_score\n",
    "from sklearn.model_selection import cross_val_score\n",
    "\n",
    "# Cross Validation\n",
    "from sklearn.model_selection import train_test_split\n",
    "\n",
    "# Para graficar la informmación\n",
    "from pandas import Series, DataFrame\n",
    "import matplotlib as mpl\n",
    "import seaborn as sns \n",
    "%matplotlib inline\n",
    "\n",
    "# Asignación del tamaño por defecto de la figura\n",
    "mpl.rcParams['figure.figsize'] = (10.0, 8.0)\n",
    "\n",
    "# Carga lo necesario para el proceso de discreción\n",
    "from sklearn.preprocessing import KBinsDiscretizer"
   ]
  },
  {
   "cell_type": "markdown",
   "metadata": {},
   "source": [
    "Carga de la información para ser utilizado con el set de datos del proyecto"
   ]
  },
  {
   "cell_type": "code",
   "execution_count": 2,
   "metadata": {},
   "outputs": [
    {
     "name": "stdout",
     "output_type": "stream",
     "text": [
      "***** Parte de la información a procesar *****\n",
      "          hotel  is_canceled  lead_time  arrival_date_year arrival_date_month  \\\n",
      "0  Resort Hotel            0        342               2015               July   \n",
      "1  Resort Hotel            0        737               2015               July   \n",
      "2  Resort Hotel            0          7               2015               July   \n",
      "3  Resort Hotel            0         13               2015               July   \n",
      "4  Resort Hotel            0         14               2015               July   \n",
      "\n",
      "   arrival_date_week_number  arrival_date_day_of_month  \\\n",
      "0                        27                          1   \n",
      "1                        27                          1   \n",
      "2                        27                          1   \n",
      "3                        27                          1   \n",
      "4                        27                          1   \n",
      "\n",
      "   stays_in_weekend_nights  stays_in_week_nights  adults  ...  deposit_type  \\\n",
      "0                        0                     0       2  ...    No Deposit   \n",
      "1                        0                     0       2  ...    No Deposit   \n",
      "2                        0                     1       1  ...    No Deposit   \n",
      "3                        0                     1       1  ...    No Deposit   \n",
      "4                        0                     2       2  ...    No Deposit   \n",
      "\n",
      "   agent company days_in_waiting_list customer_type   adr  \\\n",
      "0    NaN     NaN                    0     Transient   0.0   \n",
      "1    NaN     NaN                    0     Transient   0.0   \n",
      "2    NaN     NaN                    0     Transient  75.0   \n",
      "3  304.0     NaN                    0     Transient  75.0   \n",
      "4  240.0     NaN                    0     Transient  98.0   \n",
      "\n",
      "   required_car_parking_spaces  total_of_special_requests  reservation_status  \\\n",
      "0                            0                          0           Check-Out   \n",
      "1                            0                          0           Check-Out   \n",
      "2                            0                          0           Check-Out   \n",
      "3                            0                          0           Check-Out   \n",
      "4                            0                          1           Check-Out   \n",
      "\n",
      "  reservation_status_date  \n",
      "0              2015-07-01  \n",
      "1              2015-07-01  \n",
      "2              2015-07-02  \n",
      "3              2015-07-02  \n",
      "4              2015-07-03  \n",
      "\n",
      "[5 rows x 32 columns]\n",
      "***** Composición de los datos del Data Set *****\n",
      "         is_canceled      lead_time  arrival_date_year  \\\n",
      "count  119390.000000  119390.000000      119390.000000   \n",
      "mean        0.370416     104.011416        2016.156554   \n",
      "std         0.482918     106.863097           0.707476   \n",
      "min         0.000000       0.000000        2015.000000   \n",
      "25%         0.000000      18.000000        2016.000000   \n",
      "50%         0.000000      69.000000        2016.000000   \n",
      "75%         1.000000     160.000000        2017.000000   \n",
      "max         1.000000     737.000000        2017.000000   \n",
      "\n",
      "       arrival_date_week_number  arrival_date_day_of_month  \\\n",
      "count             119390.000000              119390.000000   \n",
      "mean                  27.165173                  15.798241   \n",
      "std                   13.605138                   8.780829   \n",
      "min                    1.000000                   1.000000   \n",
      "25%                   16.000000                   8.000000   \n",
      "50%                   28.000000                  16.000000   \n",
      "75%                   38.000000                  23.000000   \n",
      "max                   53.000000                  31.000000   \n",
      "\n",
      "       stays_in_weekend_nights  stays_in_week_nights         adults  \\\n",
      "count            119390.000000         119390.000000  119390.000000   \n",
      "mean                  0.927599              2.500302       1.856403   \n",
      "std                   0.998613              1.908286       0.579261   \n",
      "min                   0.000000              0.000000       0.000000   \n",
      "25%                   0.000000              1.000000       2.000000   \n",
      "50%                   1.000000              2.000000       2.000000   \n",
      "75%                   2.000000              3.000000       2.000000   \n",
      "max                  19.000000             50.000000      55.000000   \n",
      "\n",
      "            children         babies  is_repeated_guest  \\\n",
      "count  119386.000000  119390.000000      119390.000000   \n",
      "mean        0.103890       0.007949           0.031912   \n",
      "std         0.398561       0.097436           0.175767   \n",
      "min         0.000000       0.000000           0.000000   \n",
      "25%         0.000000       0.000000           0.000000   \n",
      "50%         0.000000       0.000000           0.000000   \n",
      "75%         0.000000       0.000000           0.000000   \n",
      "max        10.000000      10.000000           1.000000   \n",
      "\n",
      "       previous_cancellations  previous_bookings_not_canceled  \\\n",
      "count           119390.000000                   119390.000000   \n",
      "mean                 0.087118                        0.137097   \n",
      "std                  0.844336                        1.497437   \n",
      "min                  0.000000                        0.000000   \n",
      "25%                  0.000000                        0.000000   \n",
      "50%                  0.000000                        0.000000   \n",
      "75%                  0.000000                        0.000000   \n",
      "max                 26.000000                       72.000000   \n",
      "\n",
      "       booking_changes          agent      company  days_in_waiting_list  \\\n",
      "count    119390.000000  103050.000000  6797.000000         119390.000000   \n",
      "mean          0.221124      86.693382   189.266735              2.321149   \n",
      "std           0.652306     110.774548   131.655015             17.594721   \n",
      "min           0.000000       1.000000     6.000000              0.000000   \n",
      "25%           0.000000       9.000000    62.000000              0.000000   \n",
      "50%           0.000000      14.000000   179.000000              0.000000   \n",
      "75%           0.000000     229.000000   270.000000              0.000000   \n",
      "max          21.000000     535.000000   543.000000            391.000000   \n",
      "\n",
      "                 adr  required_car_parking_spaces  total_of_special_requests  \n",
      "count  119390.000000                119390.000000              119390.000000  \n",
      "mean      101.831122                     0.062518                   0.571363  \n",
      "std        50.535790                     0.245291                   0.792798  \n",
      "min        -6.380000                     0.000000                   0.000000  \n",
      "25%        69.290000                     0.000000                   0.000000  \n",
      "50%        94.575000                     0.000000                   0.000000  \n",
      "75%       126.000000                     0.000000                   1.000000  \n",
      "max      5400.000000                     8.000000                   5.000000  \n"
     ]
    }
   ],
   "source": [
    "# Carga el archivo csv dentro de Python\n",
    "booking = pd.read_csv('hotel_bookings.csv') #, header =1)\n",
    "# Ver una parte de la información del data set cargado\n",
    "print('***** Parte de la información a procesar *****')\n",
    "print(booking.head())\n",
    "# Ver la composición de los datos del data set\n",
    "print('***** Composición de los datos del Data Set *****')\n",
    "print(booking.describe())"
   ]
  },
  {
   "cell_type": "code",
   "execution_count": 3,
   "metadata": {},
   "outputs": [
    {
     "name": "stdout",
     "output_type": "stream",
     "text": [
      "***** Tipos de datos del Data Set *****\n",
      "<class 'pandas.core.frame.DataFrame'>\n",
      "RangeIndex: 119390 entries, 0 to 119389\n",
      "Data columns (total 32 columns):\n",
      "hotel                             119390 non-null object\n",
      "is_canceled                       119390 non-null int64\n",
      "lead_time                         119390 non-null int64\n",
      "arrival_date_year                 119390 non-null int64\n",
      "arrival_date_month                119390 non-null object\n",
      "arrival_date_week_number          119390 non-null int64\n",
      "arrival_date_day_of_month         119390 non-null int64\n",
      "stays_in_weekend_nights           119390 non-null int64\n",
      "stays_in_week_nights              119390 non-null int64\n",
      "adults                            119390 non-null int64\n",
      "children                          119386 non-null float64\n",
      "babies                            119390 non-null int64\n",
      "meal                              119390 non-null object\n",
      "country                           118902 non-null object\n",
      "market_segment                    119390 non-null object\n",
      "distribution_channel              119390 non-null object\n",
      "is_repeated_guest                 119390 non-null int64\n",
      "previous_cancellations            119390 non-null int64\n",
      "previous_bookings_not_canceled    119390 non-null int64\n",
      "reserved_room_type                119390 non-null object\n",
      "assigned_room_type                119390 non-null object\n",
      "booking_changes                   119390 non-null int64\n",
      "deposit_type                      119390 non-null object\n",
      "agent                             103050 non-null float64\n",
      "company                           6797 non-null float64\n",
      "days_in_waiting_list              119390 non-null int64\n",
      "customer_type                     119390 non-null object\n",
      "adr                               119390 non-null float64\n",
      "required_car_parking_spaces       119390 non-null int64\n",
      "total_of_special_requests         119390 non-null int64\n",
      "reservation_status                119390 non-null object\n",
      "reservation_status_date           119390 non-null object\n",
      "dtypes: float64(4), int64(16), object(12)\n",
      "memory usage: 29.1+ MB\n"
     ]
    }
   ],
   "source": [
    "# Verificación de los tipos de datos de las variables\n",
    "print('***** Tipos de datos del Data Set *****')\n",
    "booking.info()"
   ]
  },
  {
   "cell_type": "markdown",
   "metadata": {},
   "source": [
    "Estimación de la Covarianza en el Data Set y la matriz de correlación"
   ]
  },
  {
   "cell_type": "code",
   "execution_count": 4,
   "metadata": {},
   "outputs": [
    {
     "name": "stdout",
     "output_type": "stream",
     "text": [
      "***** Matriz de Covarianza Data Set *****\n",
      "                                is_canceled     lead_time  arrival_date_year  \\\n",
      "is_canceled                        0.233210     15.126964           0.005692   \n",
      "lead_time                         15.126964  11419.721511           3.034866   \n",
      "arrival_date_year                  0.005692      3.034866           0.500522   \n",
      "arrival_date_week_number           0.053534    184.455853          -5.203069   \n",
      "arrival_date_day_of_month         -0.025994      2.127750          -0.001373   \n",
      "stays_in_weekend_nights           -0.000864      9.142389           0.015188   \n",
      "stays_in_week_nights               0.022822     33.810687           0.041694   \n",
      "adults                             0.016789      7.398401           0.012145   \n",
      "children                           0.000972     -1.602367           0.015402   \n",
      "babies                            -0.001529     -0.217774          -0.000909   \n",
      "is_repeated_guest                 -0.007197     -2.336794           0.001286   \n",
      "previous_cancellations             0.044906      7.763414          -0.071575   \n",
      "previous_bookings_not_canceled    -0.041478    -11.769232           0.030954   \n",
      "booking_changes                   -0.045481      0.010375           0.014247   \n",
      "agent                             -4.490794   -831.818443           4.964410   \n",
      "company                           -1.033208   1662.193716          24.361820   \n",
      "days_in_waiting_list               0.460407    319.796767          -0.703261   \n",
      "adr                                1.160602   -340.640932           7.064052   \n",
      "required_car_parking_spaces       -0.023158     -3.052469          -0.002375   \n",
      "total_of_special_requests         -0.089840     -8.108810           0.060874   \n",
      "\n",
      "                                arrival_date_week_number  \\\n",
      "is_canceled                                     0.053534   \n",
      "lead_time                                     184.455853   \n",
      "arrival_date_year                              -5.203069   \n",
      "arrival_date_week_number                      185.099790   \n",
      "arrival_date_day_of_month                       7.981327   \n",
      "stays_in_weekend_nights                         0.247374   \n",
      "stays_in_week_nights                            0.403932   \n",
      "adults                                          0.204187   \n",
      "children                                        0.029924   \n",
      "babies                                          0.013781   \n",
      "is_repeated_guest                              -0.072053   \n",
      "previous_cancellations                          0.407810   \n",
      "previous_bookings_not_canceled                 -0.425865   \n",
      "booking_changes                                 0.048877   \n",
      "agent                                         -45.917933   \n",
      "company                                      -157.348199   \n",
      "days_in_waiting_list                            5.489676   \n",
      "adr                                            52.109585   \n",
      "required_car_parking_spaces                     0.006409   \n",
      "total_of_special_requests                       0.282050   \n",
      "\n",
      "                                arrival_date_day_of_month  \\\n",
      "is_canceled                                     -0.025994   \n",
      "lead_time                                        2.127750   \n",
      "arrival_date_year                               -0.001373   \n",
      "arrival_date_week_number                         7.981327   \n",
      "arrival_date_day_of_month                       77.102966   \n",
      "stays_in_weekend_nights                         -0.143405   \n",
      "stays_in_week_nights                            -0.472085   \n",
      "adults                                          -0.007965   \n",
      "children                                         0.050899   \n",
      "babies                                          -0.000197   \n",
      "is_repeated_guest                               -0.009484   \n",
      "previous_cancellations                          -0.200257   \n",
      "previous_bookings_not_canceled                  -0.003942   \n",
      "booking_changes                                  0.060788   \n",
      "agent                                            1.448817   \n",
      "company                                         50.497157   \n",
      "days_in_waiting_list                             3.511319   \n",
      "adr                                             13.421189   \n",
      "required_car_parking_spaces                      0.018703   \n",
      "total_of_special_requests                        0.021317   \n",
      "\n",
      "                                stays_in_weekend_nights  stays_in_week_nights  \\\n",
      "is_canceled                                   -0.000864              0.022822   \n",
      "lead_time                                      9.142389             33.810687   \n",
      "arrival_date_year                              0.015188              0.041694   \n",
      "arrival_date_week_number                       0.247374              0.403932   \n",
      "arrival_date_day_of_month                     -0.143405             -0.472085   \n",
      "stays_in_weekend_nights                        0.997229              0.950855   \n",
      "stays_in_week_nights                           0.950855              3.641554   \n",
      "adults                                         0.053144              0.102775   \n",
      "children                                       0.018226              0.033619   \n",
      "babies                                         0.001798              0.003754   \n",
      "is_repeated_guest                             -0.015313             -0.032617   \n",
      "previous_cancellations                        -0.010771             -0.022545   \n",
      "previous_bookings_not_canceled                -0.063875             -0.139284   \n",
      "booking_changes                                0.041222              0.119760   \n",
      "agent                                         15.651660             38.502691   \n",
      "company                                        7.052193             40.709348   \n",
      "days_in_waiting_list                          -0.951453             -0.067817   \n",
      "adr                                            2.490075              6.291289   \n",
      "required_car_parking_spaces                   -0.004545             -0.011636   \n",
      "total_of_special_requests                      0.057533              0.103166   \n",
      "\n",
      "                                   adults  children    babies  \\\n",
      "is_canceled                      0.016789  0.000972 -0.001529   \n",
      "lead_time                        7.398401 -1.602367 -0.217774   \n",
      "arrival_date_year                0.012145  0.015402 -0.000909   \n",
      "arrival_date_week_number         0.204187  0.029924  0.013781   \n",
      "arrival_date_day_of_month       -0.007965  0.050899 -0.000197   \n",
      "stays_in_weekend_nights          0.053144  0.018226  0.001798   \n",
      "stays_in_week_nights             0.102775  0.033619  0.003754   \n",
      "adults                           0.335543  0.007029  0.001024   \n",
      "children                         0.007029  0.158851  0.000933   \n",
      "babies                           0.001024  0.000933  0.009494   \n",
      "is_repeated_guest               -0.014908 -0.002302 -0.000153   \n",
      "previous_cancellations          -0.003296 -0.008322 -0.000617   \n",
      "previous_bookings_not_canceled  -0.093665 -0.012577 -0.000956   \n",
      "booking_changes                 -0.019525  0.012726  0.005303   \n",
      "agent                           -1.936162  1.873407  0.388872   \n",
      "company                         13.385137  0.642877  0.129959   \n",
      "days_in_waiting_list            -0.084423 -0.233331 -0.018207   \n",
      "adr                              6.751655  6.542931  0.143711   \n",
      "required_car_parking_spaces      0.002101  0.005500  0.000893   \n",
      "total_of_special_requests        0.056433  0.025830  0.007562   \n",
      "\n",
      "                                is_repeated_guest  previous_cancellations  \\\n",
      "is_canceled                             -0.007197                0.044906   \n",
      "lead_time                               -2.336794                7.763414   \n",
      "arrival_date_year                        0.001286               -0.071575   \n",
      "arrival_date_week_number                -0.072053                0.407810   \n",
      "arrival_date_day_of_month               -0.009484               -0.200257   \n",
      "stays_in_weekend_nights                 -0.015313               -0.010771   \n",
      "stays_in_week_nights                    -0.032617               -0.022545   \n",
      "adults                                  -0.014908               -0.003296   \n",
      "children                                -0.002302               -0.008322   \n",
      "babies                                  -0.000153               -0.000617   \n",
      "is_repeated_guest                        0.030894                0.012213   \n",
      "previous_cancellations                   0.012213                0.712904   \n",
      "previous_bookings_not_canceled           0.110032                0.193100   \n",
      "booking_changes                          0.001386               -0.014867   \n",
      "agent                                    0.410650               -1.048144   \n",
      "company                                -13.863515              -14.761508   \n",
      "days_in_waiting_list                    -0.068763                0.088080   \n",
      "adr                                     -1.193052               -2.801047   \n",
      "required_car_parking_spaces              0.003324               -0.003830   \n",
      "total_of_special_requests                0.001818               -0.032388   \n",
      "\n",
      "                                previous_bookings_not_canceled  \\\n",
      "is_canceled                                          -0.041478   \n",
      "lead_time                                           -11.769232   \n",
      "arrival_date_year                                     0.030954   \n",
      "arrival_date_week_number                             -0.425865   \n",
      "arrival_date_day_of_month                            -0.003942   \n",
      "stays_in_weekend_nights                              -0.063875   \n",
      "stays_in_week_nights                                 -0.139284   \n",
      "adults                                               -0.093665   \n",
      "children                                             -0.012577   \n",
      "babies                                               -0.000956   \n",
      "is_repeated_guest                                     0.110032   \n",
      "previous_cancellations                                0.193100   \n",
      "previous_bookings_not_canceled                        2.242317   \n",
      "booking_changes                                       0.011338   \n",
      "agent                                                 1.124674   \n",
      "company                                            -154.832495   \n",
      "days_in_waiting_list                                 -0.247582   \n",
      "adr                                                  -5.459451   \n",
      "required_car_parking_spaces                           0.017503   \n",
      "total_of_special_requests                             0.044903   \n",
      "\n",
      "                                booking_changes         agent       company  \\\n",
      "is_canceled                           -0.045481     -4.490794     -1.033208   \n",
      "lead_time                              0.010375   -831.818443   1662.193716   \n",
      "arrival_date_year                      0.014247      4.964410     24.361820   \n",
      "arrival_date_week_number               0.048877    -45.917933   -157.348199   \n",
      "arrival_date_day_of_month              0.060788      1.448817     50.497157   \n",
      "stays_in_weekend_nights                0.041222     15.651660      7.052193   \n",
      "stays_in_week_nights                   0.119760     38.502691     40.709348   \n",
      "adults                                -0.019525     -1.936162     13.385137   \n",
      "children                               0.012726      1.873407      0.642877   \n",
      "babies                                 0.005303      0.388872      0.129959   \n",
      "is_repeated_guest                      0.001386      0.410650    -13.863515   \n",
      "previous_cancellations                -0.014867     -1.048144    -14.761508   \n",
      "previous_bookings_not_canceled         0.011338      1.124674   -154.832495   \n",
      "booking_changes                        0.425503      4.637814     14.354100   \n",
      "agent                                  4.637814  12271.000405   4051.253691   \n",
      "company                               14.354100   4051.253691  17333.042879   \n",
      "days_in_waiting_list                  -0.133524   -114.753762      0.274308   \n",
      "adr                                    0.646692   -136.872059    388.918601   \n",
      "required_car_parking_spaces            0.010500      4.434478     -0.540286   \n",
      "total_of_special_requests              0.027323      3.024426     -7.662299   \n",
      "\n",
      "                                days_in_waiting_list          adr  \\\n",
      "is_canceled                                 0.460407     1.160602   \n",
      "lead_time                                 319.796767  -340.640932   \n",
      "arrival_date_year                          -0.703261     7.064052   \n",
      "arrival_date_week_number                    5.489676    52.109585   \n",
      "arrival_date_day_of_month                   3.511319    13.421189   \n",
      "stays_in_weekend_nights                    -0.951453     2.490075   \n",
      "stays_in_week_nights                       -0.067817     6.291289   \n",
      "adults                                     -0.084423     6.751655   \n",
      "children                                   -0.233331     6.542931   \n",
      "babies                                     -0.018207     0.143711   \n",
      "is_repeated_guest                          -0.068763    -1.193052   \n",
      "previous_cancellations                      0.088080    -2.801047   \n",
      "previous_bookings_not_canceled             -0.247582    -5.459451   \n",
      "booking_changes                            -0.133524     0.646692   \n",
      "agent                                    -114.753762  -136.872059   \n",
      "company                                     0.274308   388.918601   \n",
      "days_in_waiting_list                      309.574203   -36.239099   \n",
      "adr                                       -36.239099  2553.866100   \n",
      "required_car_parking_spaces                -0.132065     0.701961   \n",
      "total_of_special_requests                  -1.154002     6.898550   \n",
      "\n",
      "                                required_car_parking_spaces  \\\n",
      "is_canceled                                       -0.023158   \n",
      "lead_time                                         -3.052469   \n",
      "arrival_date_year                                 -0.002375   \n",
      "arrival_date_week_number                           0.006409   \n",
      "arrival_date_day_of_month                          0.018703   \n",
      "stays_in_weekend_nights                           -0.004545   \n",
      "stays_in_week_nights                              -0.011636   \n",
      "adults                                             0.002101   \n",
      "children                                           0.005500   \n",
      "babies                                             0.000893   \n",
      "is_repeated_guest                                  0.003324   \n",
      "previous_cancellations                            -0.003830   \n",
      "previous_bookings_not_canceled                     0.017503   \n",
      "booking_changes                                    0.010500   \n",
      "agent                                              4.434478   \n",
      "company                                           -0.540286   \n",
      "days_in_waiting_list                              -0.132065   \n",
      "adr                                                0.701961   \n",
      "required_car_parking_spaces                        0.060168   \n",
      "total_of_special_requests                          0.016068   \n",
      "\n",
      "                                total_of_special_requests  \n",
      "is_canceled                                     -0.089840  \n",
      "lead_time                                       -8.108810  \n",
      "arrival_date_year                                0.060874  \n",
      "arrival_date_week_number                         0.282050  \n",
      "arrival_date_day_of_month                        0.021317  \n",
      "stays_in_weekend_nights                          0.057533  \n",
      "stays_in_week_nights                             0.103166  \n",
      "adults                                           0.056433  \n",
      "children                                         0.025830  \n",
      "babies                                           0.007562  \n",
      "is_repeated_guest                                0.001818  \n",
      "previous_cancellations                          -0.032388  \n",
      "previous_bookings_not_canceled                   0.044903  \n",
      "booking_changes                                  0.027323  \n",
      "agent                                            3.024426  \n",
      "company                                         -7.662299  \n",
      "days_in_waiting_list                            -1.154002  \n",
      "adr                                              6.898550  \n",
      "required_car_parking_spaces                      0.016068  \n",
      "total_of_special_requests                        0.628529  \n"
     ]
    }
   ],
   "source": [
    "# Cálculo de la covarianza para el Data Set\n",
    "covMat = booking.cov()\n",
    "print('***** Matriz de Covarianza Data Set *****')\n",
    "print(covMat)"
   ]
  },
  {
   "cell_type": "code",
   "execution_count": 5,
   "metadata": {},
   "outputs": [
    {
     "name": "stdout",
     "output_type": "stream",
     "text": [
      "***** Matriz de Correlación del Data Set *****\n",
      "                                is_canceled  lead_time  arrival_date_year  \\\n",
      "is_canceled                        1.000000   0.293123           0.016660   \n",
      "lead_time                          0.293123   1.000000           0.040142   \n",
      "arrival_date_year                  0.016660   0.040142           1.000000   \n",
      "arrival_date_week_number           0.008148   0.126871          -0.540561   \n",
      "arrival_date_day_of_month         -0.006130   0.002268          -0.000221   \n",
      "stays_in_weekend_nights           -0.001791   0.085671           0.021497   \n",
      "stays_in_week_nights               0.024765   0.165799           0.030883   \n",
      "adults                             0.060017   0.119519           0.029635   \n",
      "children                           0.005048  -0.037622           0.054624   \n",
      "babies                            -0.032491  -0.020915          -0.013192   \n",
      "is_repeated_guest                 -0.084793  -0.124410           0.010341   \n",
      "previous_cancellations             0.110133   0.086042          -0.119822   \n",
      "previous_bookings_not_canceled    -0.057358  -0.073548           0.029218   \n",
      "booking_changes                   -0.144381   0.000149           0.030872   \n",
      "agent                             -0.083114  -0.069741           0.063457   \n",
      "company                           -0.020642   0.151464           0.259095   \n",
      "days_in_waiting_list               0.054186   0.170084          -0.056497   \n",
      "adr                                0.047557  -0.063077           0.197580   \n",
      "required_car_parking_spaces       -0.195498  -0.116451          -0.013684   \n",
      "total_of_special_requests         -0.234658  -0.095712           0.108531   \n",
      "\n",
      "                                arrival_date_week_number  \\\n",
      "is_canceled                                     0.008148   \n",
      "lead_time                                       0.126871   \n",
      "arrival_date_year                              -0.540561   \n",
      "arrival_date_week_number                        1.000000   \n",
      "arrival_date_day_of_month                       0.066809   \n",
      "stays_in_weekend_nights                         0.018208   \n",
      "stays_in_week_nights                            0.015558   \n",
      "adults                                          0.025909   \n",
      "children                                        0.005518   \n",
      "babies                                          0.010395   \n",
      "is_repeated_guest                              -0.030131   \n",
      "previous_cancellations                          0.035501   \n",
      "previous_bookings_not_canceled                 -0.020904   \n",
      "booking_changes                                 0.005508   \n",
      "agent                                          -0.031201   \n",
      "company                                        -0.076760   \n",
      "days_in_waiting_list                            0.022933   \n",
      "adr                                             0.075791   \n",
      "required_car_parking_spaces                     0.001920   \n",
      "total_of_special_requests                       0.026149   \n",
      "\n",
      "                                arrival_date_day_of_month  \\\n",
      "is_canceled                                     -0.006130   \n",
      "lead_time                                        0.002268   \n",
      "arrival_date_year                               -0.000221   \n",
      "arrival_date_week_number                         0.066809   \n",
      "arrival_date_day_of_month                        1.000000   \n",
      "stays_in_weekend_nights                         -0.016354   \n",
      "stays_in_week_nights                            -0.028174   \n",
      "adults                                          -0.001566   \n",
      "children                                         0.014544   \n",
      "babies                                          -0.000230   \n",
      "is_repeated_guest                               -0.006145   \n",
      "previous_cancellations                          -0.027011   \n",
      "previous_bookings_not_canceled                  -0.000300   \n",
      "booking_changes                                  0.010613   \n",
      "agent                                            0.001487   \n",
      "company                                          0.044858   \n",
      "days_in_waiting_list                             0.022728   \n",
      "adr                                              0.030245   \n",
      "required_car_parking_spaces                      0.008683   \n",
      "total_of_special_requests                        0.003062   \n",
      "\n",
      "                                stays_in_weekend_nights  stays_in_week_nights  \\\n",
      "is_canceled                                   -0.001791              0.024765   \n",
      "lead_time                                      0.085671              0.165799   \n",
      "arrival_date_year                              0.021497              0.030883   \n",
      "arrival_date_week_number                       0.018208              0.015558   \n",
      "arrival_date_day_of_month                     -0.016354             -0.028174   \n",
      "stays_in_weekend_nights                        1.000000              0.498969   \n",
      "stays_in_week_nights                           0.498969              1.000000   \n",
      "adults                                         0.091871              0.092976   \n",
      "children                                       0.045793              0.044203   \n",
      "babies                                         0.018483              0.020191   \n",
      "is_repeated_guest                             -0.087239             -0.097245   \n",
      "previous_cancellations                        -0.012775             -0.013992   \n",
      "previous_bookings_not_canceled                -0.042715             -0.048743   \n",
      "booking_changes                                0.063281              0.096209   \n",
      "agent                                          0.140739              0.182382   \n",
      "company                                        0.066749              0.182211   \n",
      "days_in_waiting_list                          -0.054151             -0.002020   \n",
      "adr                                            0.049342              0.065237   \n",
      "required_car_parking_spaces                   -0.018554             -0.024859   \n",
      "total_of_special_requests                      0.072671              0.068192   \n",
      "\n",
      "                                  adults  children    babies  \\\n",
      "is_canceled                     0.060017  0.005048 -0.032491   \n",
      "lead_time                       0.119519 -0.037622 -0.020915   \n",
      "arrival_date_year               0.029635  0.054624 -0.013192   \n",
      "arrival_date_week_number        0.025909  0.005518  0.010395   \n",
      "arrival_date_day_of_month      -0.001566  0.014544 -0.000230   \n",
      "stays_in_weekend_nights         0.091871  0.045793  0.018483   \n",
      "stays_in_week_nights            0.092976  0.044203  0.020191   \n",
      "adults                          1.000000  0.030447  0.018146   \n",
      "children                        0.030447  1.000000  0.024030   \n",
      "babies                          0.018146  0.024030  1.000000   \n",
      "is_repeated_guest              -0.146426 -0.032859 -0.008943   \n",
      "previous_cancellations         -0.006738 -0.024730 -0.007501   \n",
      "previous_bookings_not_canceled -0.107983 -0.021072 -0.006550   \n",
      "booking_changes                -0.051673  0.048949  0.083440   \n",
      "agent                          -0.035594  0.041066  0.036184   \n",
      "company                         0.207793  0.030931  0.019206   \n",
      "days_in_waiting_list           -0.008283 -0.033273 -0.010621   \n",
      "adr                             0.230641  0.324854  0.029186   \n",
      "required_car_parking_spaces     0.014785  0.056253  0.037383   \n",
      "total_of_special_requests       0.122884  0.081745  0.097889   \n",
      "\n",
      "                                is_repeated_guest  previous_cancellations  \\\n",
      "is_canceled                             -0.084793                0.110133   \n",
      "lead_time                               -0.124410                0.086042   \n",
      "arrival_date_year                        0.010341               -0.119822   \n",
      "arrival_date_week_number                -0.030131                0.035501   \n",
      "arrival_date_day_of_month               -0.006145               -0.027011   \n",
      "stays_in_weekend_nights                 -0.087239               -0.012775   \n",
      "stays_in_week_nights                    -0.097245               -0.013992   \n",
      "adults                                  -0.146426               -0.006738   \n",
      "children                                -0.032859               -0.024730   \n",
      "babies                                  -0.008943               -0.007501   \n",
      "is_repeated_guest                        1.000000                0.082293   \n",
      "previous_cancellations                   0.082293                1.000000   \n",
      "previous_bookings_not_canceled           0.418056                0.152728   \n",
      "booking_changes                          0.012092               -0.026993   \n",
      "agent                                    0.031527               -0.012488   \n",
      "company                                 -0.244586               -0.184574   \n",
      "days_in_waiting_list                    -0.022235                0.005929   \n",
      "adr                                     -0.134314               -0.065646   \n",
      "required_car_parking_spaces              0.077090               -0.018492   \n",
      "total_of_special_requests                0.013050               -0.048384   \n",
      "\n",
      "                                previous_bookings_not_canceled  \\\n",
      "is_canceled                                          -0.057358   \n",
      "lead_time                                            -0.073548   \n",
      "arrival_date_year                                     0.029218   \n",
      "arrival_date_week_number                             -0.020904   \n",
      "arrival_date_day_of_month                            -0.000300   \n",
      "stays_in_weekend_nights                              -0.042715   \n",
      "stays_in_week_nights                                 -0.048743   \n",
      "adults                                               -0.107983   \n",
      "children                                             -0.021072   \n",
      "babies                                               -0.006550   \n",
      "is_repeated_guest                                     0.418056   \n",
      "previous_cancellations                                0.152728   \n",
      "previous_bookings_not_canceled                        1.000000   \n",
      "booking_changes                                       0.011608   \n",
      "agent                                                 0.023252   \n",
      "company                                              -0.208557   \n",
      "days_in_waiting_list                                 -0.009397   \n",
      "adr                                                  -0.072144   \n",
      "required_car_parking_spaces                           0.047653   \n",
      "total_of_special_requests                             0.037824   \n",
      "\n",
      "                                booking_changes     agent   company  \\\n",
      "is_canceled                           -0.144381 -0.083114 -0.020642   \n",
      "lead_time                              0.000149 -0.069741  0.151464   \n",
      "arrival_date_year                      0.030872  0.063457  0.259095   \n",
      "arrival_date_week_number               0.005508 -0.031201 -0.076760   \n",
      "arrival_date_day_of_month              0.010613  0.001487  0.044858   \n",
      "stays_in_weekend_nights                0.063281  0.140739  0.066749   \n",
      "stays_in_week_nights                   0.096209  0.182382  0.182211   \n",
      "adults                                -0.051673 -0.035594  0.207793   \n",
      "children                               0.048949  0.041066  0.030931   \n",
      "babies                                 0.083440  0.036184  0.019206   \n",
      "is_repeated_guest                      0.012092  0.031527 -0.244586   \n",
      "previous_cancellations                -0.026993 -0.012488 -0.184574   \n",
      "previous_bookings_not_canceled         0.011608  0.023252 -0.208557   \n",
      "booking_changes                        1.000000  0.067010  0.122098   \n",
      "agent                                  0.067010  1.000000  0.350746   \n",
      "company                                0.122098  0.350746  1.000000   \n",
      "days_in_waiting_list                  -0.011634 -0.055151  0.000411   \n",
      "adr                                    0.019618 -0.024695  0.086376   \n",
      "required_car_parking_spaces            0.065620  0.177353 -0.012916   \n",
      "total_of_special_requests              0.052833  0.034162 -0.098558   \n",
      "\n",
      "                                days_in_waiting_list       adr  \\\n",
      "is_canceled                                 0.054186  0.047557   \n",
      "lead_time                                   0.170084 -0.063077   \n",
      "arrival_date_year                          -0.056497  0.197580   \n",
      "arrival_date_week_number                    0.022933  0.075791   \n",
      "arrival_date_day_of_month                   0.022728  0.030245   \n",
      "stays_in_weekend_nights                    -0.054151  0.049342   \n",
      "stays_in_week_nights                       -0.002020  0.065237   \n",
      "adults                                     -0.008283  0.230641   \n",
      "children                                   -0.033273  0.324854   \n",
      "babies                                     -0.010621  0.029186   \n",
      "is_repeated_guest                          -0.022235 -0.134314   \n",
      "previous_cancellations                      0.005929 -0.065646   \n",
      "previous_bookings_not_canceled             -0.009397 -0.072144   \n",
      "booking_changes                            -0.011634  0.019618   \n",
      "agent                                      -0.055151 -0.024695   \n",
      "company                                     0.000411  0.086376   \n",
      "days_in_waiting_list                        1.000000 -0.040756   \n",
      "adr                                        -0.040756  1.000000   \n",
      "required_car_parking_spaces                -0.030600  0.056628   \n",
      "total_of_special_requests                  -0.082730  0.172185   \n",
      "\n",
      "                                required_car_parking_spaces  \\\n",
      "is_canceled                                       -0.195498   \n",
      "lead_time                                         -0.116451   \n",
      "arrival_date_year                                 -0.013684   \n",
      "arrival_date_week_number                           0.001920   \n",
      "arrival_date_day_of_month                          0.008683   \n",
      "stays_in_weekend_nights                           -0.018554   \n",
      "stays_in_week_nights                              -0.024859   \n",
      "adults                                             0.014785   \n",
      "children                                           0.056253   \n",
      "babies                                             0.037383   \n",
      "is_repeated_guest                                  0.077090   \n",
      "previous_cancellations                            -0.018492   \n",
      "previous_bookings_not_canceled                     0.047653   \n",
      "booking_changes                                    0.065620   \n",
      "agent                                              0.177353   \n",
      "company                                           -0.012916   \n",
      "days_in_waiting_list                              -0.030600   \n",
      "adr                                                0.056628   \n",
      "required_car_parking_spaces                        1.000000   \n",
      "total_of_special_requests                          0.082626   \n",
      "\n",
      "                                total_of_special_requests  \n",
      "is_canceled                                     -0.234658  \n",
      "lead_time                                       -0.095712  \n",
      "arrival_date_year                                0.108531  \n",
      "arrival_date_week_number                         0.026149  \n",
      "arrival_date_day_of_month                        0.003062  \n",
      "stays_in_weekend_nights                          0.072671  \n",
      "stays_in_week_nights                             0.068192  \n",
      "adults                                           0.122884  \n",
      "children                                         0.081745  \n",
      "babies                                           0.097889  \n",
      "is_repeated_guest                                0.013050  \n",
      "previous_cancellations                          -0.048384  \n",
      "previous_bookings_not_canceled                   0.037824  \n",
      "booking_changes                                  0.052833  \n",
      "agent                                            0.034162  \n",
      "company                                         -0.098558  \n",
      "days_in_waiting_list                            -0.082730  \n",
      "adr                                              0.172185  \n",
      "required_car_parking_spaces                      0.082626  \n",
      "total_of_special_requests                        1.000000  \n"
     ]
    }
   ],
   "source": [
    "# Creación de una matriz de correlación básica con pandas\n",
    "corrMat = booking.corr()\n",
    "print('***** Matriz de Correlación del Data Set *****')\n",
    "print(corrMat)"
   ]
  },
  {
   "cell_type": "markdown",
   "metadata": {},
   "source": [
    "Análisis Exploratorio de los Datos"
   ]
  },
  {
   "cell_type": "code",
   "execution_count": 6,
   "metadata": {},
   "outputs": [
    {
     "name": "stdout",
     "output_type": "stream",
     "text": [
      "***** Cantidad de Reservaciones por Año de Arrivo *****\n"
     ]
    },
    {
     "data": {
      "text/plain": [
       "arrival_date_year\n",
       "2015    21996\n",
       "2016    56707\n",
       "2017    40687\n",
       "Name: arrival_date_year, dtype: int64"
      ]
     },
     "execution_count": 6,
     "metadata": {},
     "output_type": "execute_result"
    }
   ],
   "source": [
    "# Cantidad de reservaciones por año de arribo\n",
    "print('***** Cantidad de Reservaciones por Año de Arribo *****')\n",
    "booking.groupby('arrival_date_year')['arrival_date_year'].count()"
   ]
  },
  {
   "cell_type": "code",
   "execution_count": 7,
   "metadata": {
    "scrolled": true
   },
   "outputs": [
    {
     "data": {
      "text/plain": [
       "<seaborn.axisgrid.FacetGrid at 0x266e0645cc8>"
      ]
     },
     "execution_count": 7,
     "metadata": {},
     "output_type": "execute_result"
    },
    {
     "data": {
      "image/png": "[encoded data removed]",
      "text/plain": [
       "<Figure size 540x360 with 1 Axes>"
      ]
     },
     "metadata": {
      "needs_background": "light"
     },
     "output_type": "display_data"
    }
   ],
   "source": [
    "# Se grafica la cantidad de reservaciones por año\n",
    "fg = sns.catplot('arrival_date_year', data=booking, kind='count', aspect=1.5)\n",
    "fg.set_xlabels('Año')"
   ]
  },
  {
   "cell_type": "markdown",
   "metadata": {},
   "source": [
    "Las reservaciones del 2015 son un 18% del total, las del 2016 son un 47% y las del 2017 son un 34%"
   ]
  },
  {
   "cell_type": "code",
   "execution_count": 8,
   "metadata": {},
   "outputs": [
    {
     "data": {
      "text/plain": [
       "arrival_date_year  hotel       \n",
       "2015               City Hotel      13682\n",
       "                   Resort Hotel     8314\n",
       "2016               City Hotel      38140\n",
       "                   Resort Hotel    18567\n",
       "2017               City Hotel      27508\n",
       "                   Resort Hotel    13179\n",
       "Name: arrival_date_year, dtype: int64"
      ]
     },
     "execution_count": 8,
     "metadata": {},
     "output_type": "execute_result"
    }
   ],
   "source": [
    "# Cantidad de reservaciones por tipo de hotel y año\n",
    "booking.groupby(['arrival_date_year', 'hotel'])['arrival_date_year'].count()"
   ]
  },
  {
   "cell_type": "code",
   "execution_count": 9,
   "metadata": {
    "scrolled": false
   },
   "outputs": [
    {
     "data": {
      "text/plain": [
       "<seaborn.axisgrid.FacetGrid at 0x266dd06aa48>"
      ]
     },
     "execution_count": 9,
     "metadata": {},
     "output_type": "execute_result"
    },
    {
     "data": {
      "image/png": "[encoded data removed]",
      "text/plain": [
       "<Figure size 727.75x360 with 1 Axes>"
      ]
     },
     "metadata": {
      "needs_background": "light"
     },
     "output_type": "display_data"
    }
   ],
   "source": [
    "# Se grafican los resultados anteriores\n",
    "g = sns.catplot('arrival_date_year', data=booking, hue='hotel', kind='count', aspect=1.75)\n",
    "g.set_xlabels('Años')"
   ]
  },
  {
   "cell_type": "markdown",
   "metadata": {},
   "source": [
    "Para el año 2015 62% fueron hoteles urbanos y 38% turísticos. \n",
    "Para el año 2016 tenemos 67% y 33% respectivamente. \n",
    "Para el año 2017 son 68% y 32%. \n",
    "Se puede considerar que aumenta la predilección por el hotel urbano, aunque de manera leve"
   ]
  },
  {
   "cell_type": "code",
   "execution_count": 10,
   "metadata": {
    "scrolled": true
   },
   "outputs": [
    {
     "name": "stdout",
     "output_type": "stream",
     "text": [
      "***** Cantidad de Reservaciones por Tipo de Hotel *****\n"
     ]
    },
    {
     "data": {
      "text/plain": [
       "hotel\n",
       "City Hotel      79330\n",
       "Resort Hotel    40060\n",
       "Name: hotel, dtype: int64"
      ]
     },
     "execution_count": 10,
     "metadata": {},
     "output_type": "execute_result"
    }
   ],
   "source": [
    "# Cantidad de reservaciones por tipo de hotel\n",
    "print('***** Cantidad de Reservaciones por Tipo de Hotel *****')\n",
    "booking.groupby('hotel')['hotel'].count()"
   ]
  },
  {
   "cell_type": "code",
   "execution_count": 11,
   "metadata": {},
   "outputs": [
    {
     "data": {
      "text/plain": [
       "<seaborn.axisgrid.FacetGrid at 0x266eb5f3f88>"
      ]
     },
     "execution_count": 11,
     "metadata": {},
     "output_type": "execute_result"
    },
    {
     "data": {
      "image/png": "[encoded data removed]",
      "text/plain": [
       "<Figure size 540x360 with 1 Axes>"
      ]
     },
     "metadata": {
      "needs_background": "light"
     },
     "output_type": "display_data"
    }
   ],
   "source": [
    "# Se grafica la cantidad de reservaciones por tipo de hotel\n",
    "fg = sns.catplot('hotel', data=booking, kind='count', aspect=1.5)\n",
    "fg.set_xlabels('Tipo de Hotel')"
   ]
  },
  {
   "cell_type": "markdown",
   "metadata": {},
   "source": [
    "El hotel urbano representa un 66 del total de las reservaciones y el turístico un 34%, una relación de 2/3 a 1/3"
   ]
  },
  {
   "cell_type": "markdown",
   "metadata": {},
   "source": [
    "Revisión de las cancelaciones"
   ]
  },
  {
   "cell_type": "code",
   "execution_count": 12,
   "metadata": {},
   "outputs": [
    {
     "name": "stdout",
     "output_type": "stream",
     "text": [
      "***** Cantidad de Reservaciones no canceladas y canceladas *****\n"
     ]
    },
    {
     "data": {
      "text/plain": [
       "is_canceled\n",
       "0    75166\n",
       "1    44224\n",
       "Name: is_canceled, dtype: int64"
      ]
     },
     "execution_count": 12,
     "metadata": {},
     "output_type": "execute_result"
    }
   ],
   "source": [
    "# Cantidad de reservaciones canceladas y no canceladas\n",
    "print('***** Cantidad de Reservaciones no canceladas y canceladas *****')\n",
    "booking.groupby('is_canceled')['is_canceled'].count()"
   ]
  },
  {
   "cell_type": "code",
   "execution_count": 13,
   "metadata": {
    "scrolled": true
   },
   "outputs": [
    {
     "data": {
      "text/plain": [
       "<seaborn.axisgrid.FacetGrid at 0x266e2f5cec8>"
      ]
     },
     "execution_count": 13,
     "metadata": {},
     "output_type": "execute_result"
    },
    {
     "data": {
      "image/png": "[encoded data removed]",
      "text/plain": [
       "<Figure size 540x360 with 1 Axes>"
      ]
     },
     "metadata": {
      "needs_background": "light"
     },
     "output_type": "display_data"
    }
   ],
   "source": [
    "# Se grafica la cantidad de reservaciones por año\n",
    "fg = sns.catplot('is_canceled', data=booking, kind='count', aspect=1.5)\n",
    "fg.set_xlabels('Estado Reservación')"
   ]
  },
  {
   "cell_type": "markdown",
   "metadata": {},
   "source": [
    "En general, las cancelaciones son un 37% del total de las reservaciones que fueron realizadas"
   ]
  },
  {
   "cell_type": "code",
   "execution_count": 14,
   "metadata": {},
   "outputs": [
    {
     "name": "stdout",
     "output_type": "stream",
     "text": [
      "***** Estado de la reservación según el tipo de hotel *****\n"
     ]
    },
    {
     "data": {
      "text/plain": [
       "hotel         is_canceled\n",
       "City Hotel    0              46228\n",
       "              1              33102\n",
       "Resort Hotel  0              28938\n",
       "              1              11122\n",
       "Name: hotel, dtype: int64"
      ]
     },
     "execution_count": 14,
     "metadata": {},
     "output_type": "execute_result"
    }
   ],
   "source": [
    "# Estado de la reservación según el tipo de hotel\n",
    "print('***** Estado de la reservación según el tipo de hotel *****')\n",
    "booking.groupby(['hotel', 'is_canceled'])['hotel'].count()"
   ]
  },
  {
   "cell_type": "code",
   "execution_count": 15,
   "metadata": {
    "scrolled": false
   },
   "outputs": [
    {
     "data": {
      "text/plain": [
       "<seaborn.axisgrid.FacetGrid at 0x266eb5cc288>"
      ]
     },
     "execution_count": 15,
     "metadata": {},
     "output_type": "execute_result"
    },
    {
     "data": {
      "image/png": "[encoded data removed]",
      "text/plain": [
       "<Figure size 727.75x360 with 1 Axes>"
      ]
     },
     "metadata": {
      "needs_background": "light"
     },
     "output_type": "display_data"
    }
   ],
   "source": [
    "# Se grafican los resultados anteriores\n",
    "g = sns.catplot('is_canceled', data=booking, hue='hotel', kind='count', aspect=1.75)\n",
    "g.set_xlabels('Estado de la Reservación')"
   ]
  },
  {
   "cell_type": "markdown",
   "metadata": {},
   "source": [
    "Los hoteles urbanos tienen un 42% de cancelación de sus reservaciones, mientras que los turísticos las cancelaciones son un 28% del total de las reservacions"
   ]
  },
  {
   "cell_type": "code",
   "execution_count": 16,
   "metadata": {},
   "outputs": [
    {
     "name": "stdout",
     "output_type": "stream",
     "text": [
      "['BB' 'FB' 'HB' 'SC' 'Undefined']\n",
      "['BB' 'FB' 'HB' 'SC']\n"
     ]
    }
   ],
   "source": [
    "# Ajuste de los valores del tipo de comida reservada\n",
    "print(booking['meal'].unique())\n",
    "booking['meal'] = np.where(booking['meal'] == 'Undefined', 'SC', booking['meal'])\n",
    "print(booking['meal'].unique())"
   ]
  },
  {
   "cell_type": "code",
   "execution_count": 17,
   "metadata": {},
   "outputs": [
    {
     "name": "stdout",
     "output_type": "stream",
     "text": [
      "***** Estado de la reservación según el tipo de comida reservada *****\n"
     ]
    },
    {
     "data": {
      "text/plain": [
       "meal  is_canceled\n",
       "BB    0              57800\n",
       "      1              34510\n",
       "FB    0                320\n",
       "      1                478\n",
       "HB    0               9479\n",
       "      1               4984\n",
       "SC    0               7567\n",
       "      1               4252\n",
       "Name: meal, dtype: int64"
      ]
     },
     "execution_count": 17,
     "metadata": {},
     "output_type": "execute_result"
    }
   ],
   "source": [
    "# Estado de la reservación según el tipo de comida reservada\n",
    "print('***** Estado de la reservación según el tipo de comida reservada *****')\n",
    "booking.groupby(['meal', 'is_canceled'])['meal'].count()"
   ]
  },
  {
   "cell_type": "code",
   "execution_count": 18,
   "metadata": {},
   "outputs": [
    {
     "data": {
      "text/plain": [
       "<seaborn.axisgrid.FacetGrid at 0x266e26e9288>"
      ]
     },
     "execution_count": 18,
     "metadata": {},
     "output_type": "execute_result"
    },
    {
     "data": {
      "image/png": "[encoded data removed]",
      "text/plain": [
       "<Figure size 680.375x360 with 1 Axes>"
      ]
     },
     "metadata": {
      "needs_background": "light"
     },
     "output_type": "display_data"
    }
   ],
   "source": [
    "# Se grafican los resultados anteriores\n",
    "g = sns.catplot('is_canceled', data=booking, hue='meal', kind='count', aspect=1.75)\n",
    "g.set_xlabels('Estado de la Reservación')"
   ]
  },
  {
   "cell_type": "markdown",
   "metadata": {},
   "source": [
    "Cuando se reserva con desayuno (BB) el porcentaje de cancelaciones es un 37%. \n",
    "Cuando se reserva con desayuno y una comida más (HB) las cancelaciones son un 34%. \n",
    "Cuando se reserva con todos los tiempos de comida (FB) las cancelaciones son un 60%. \n",
    "Cuando la reservacion no incluye las comidas (SC) las cancelaciones son un 36%. \n",
    "Con excepción de la reservación con todas las comidas, todas las cancelaciones tiene un comportamiento semejante."
   ]
  },
  {
   "cell_type": "markdown",
   "metadata": {},
   "source": [
    "Proceso para dividir los días entre la fecha de reservación y la fecha de llegada en 5 tractos:\n",
    "de 0 a 147, 148 a 295, de 296 a 443, de 444 a 591 y de 592 a 737 días"
   ]
  },
  {
   "cell_type": "code",
   "execution_count": 19,
   "metadata": {},
   "outputs": [],
   "source": [
    "# Ajusta el dato de los días por rangos\n",
    "DAY_dis = KBinsDiscretizer(n_bins = 5, encode='ordinal', strategy = \"kmeans\").fit_transform(booking[['lead_time']])\n",
    "DAY_dis = pd.DataFrame(DAY_dis).astype(int)\n",
    "DAY_dis = DAY_dis.rename(columns = {0: 'lead_time'})\n",
    "booking[['lead_time']] = DAY_dis"
   ]
  },
  {
   "cell_type": "code",
   "execution_count": 20,
   "metadata": {},
   "outputs": [
    {
     "name": "stdout",
     "output_type": "stream",
     "text": [
      "***** Estado de la reservación según la cantidad de días x rango *****\n"
     ]
    },
    {
     "data": {
      "text/plain": [
       "lead_time  is_canceled\n",
       "0          0              40858\n",
       "           1              12328\n",
       "1          0              17333\n",
       "           1              12430\n",
       "2          0              11371\n",
       "           1               9584\n",
       "3          0               4586\n",
       "           1               7752\n",
       "4          0               1018\n",
       "           1               2130\n",
       "Name: lead_time, dtype: int64"
      ]
     },
     "execution_count": 20,
     "metadata": {},
     "output_type": "execute_result"
    }
   ],
   "source": [
    "# Estado de la reservación según la cantidad de días x rango\n",
    "print('***** Estado de la reservación según la cantidad de días x rango *****')\n",
    "booking.groupby(['lead_time', 'is_canceled'])['lead_time'].count()"
   ]
  },
  {
   "cell_type": "code",
   "execution_count": 21,
   "metadata": {},
   "outputs": [
    {
     "data": {
      "text/plain": [
       "<seaborn.axisgrid.FacetGrid at 0x266e3050088>"
      ]
     },
     "execution_count": 21,
     "metadata": {},
     "output_type": "execute_result"
    },
    {
     "data": {
      "image/png": "[encoded data removed]",
      "text/plain": [
       "<Figure size 687x360 with 1 Axes>"
      ]
     },
     "metadata": {
      "needs_background": "light"
     },
     "output_type": "display_data"
    }
   ],
   "source": [
    "# Se grafican los resultados anteriores\n",
    "g = sns.catplot('is_canceled', data=booking, hue='lead_time', kind='count', aspect=1.75)\n",
    "g.set_xlabels('Estado de la Reservación')"
   ]
  },
  {
   "cell_type": "markdown",
   "metadata": {},
   "source": [
    "Tenemos los siguientes porcentajes de cancelación de reservaciones según el rango de la cantidad de días:\n",
    "0 a 147 => 23%\n",
    "148 a 295 => 42%\n",
    "296 a 443 => 46%\n",
    "444 a 591 => 63%\n",
    "592 a 737 => 68%\n",
    "Entre más días de anticipación fue hecha la reservación, hay más posibilidad de que sea cancelada"
   ]
  },
  {
   "cell_type": "code",
   "execution_count": 24,
   "metadata": {},
   "outputs": [
    {
     "name": "stdout",
     "output_type": "stream",
     "text": [
      "***** Estado de la reservación según el mes de arrivo *****\n"
     ]
    },
    {
     "data": {
      "text/plain": [
       "arrival_date_month  is_canceled\n",
       "April               0              6565\n",
       "                    1              4524\n",
       "August              0              8638\n",
       "                    1              5239\n",
       "December            0              4409\n",
       "                    1              2371\n",
       "February            0              5372\n",
       "                    1              2696\n",
       "January             0              4122\n",
       "                    1              1807\n",
       "July                0              7919\n",
       "                    1              4742\n",
       "June                0              6404\n",
       "                    1              4535\n",
       "March               0              6645\n",
       "                    1              3149\n",
       "May                 0              7114\n",
       "                    1              4677\n",
       "November            0              4672\n",
       "                    1              2122\n",
       "October             0              6914\n",
       "                    1              4246\n",
       "September           0              6392\n",
       "                    1              4116\n",
       "Name: arrival_date_month, dtype: int64"
      ]
     },
     "execution_count": 24,
     "metadata": {},
     "output_type": "execute_result"
    }
   ],
   "source": [
    "### Estado de la reservación según el mes de arribo\n",
    "print('***** Estado de la reservación según el mes de Arribo *****')\n",
    "booking.groupby(['arrival_date_month', 'is_canceled'])['arrival_date_month'].count()"
   ]
  },
  {
   "cell_type": "code",
   "execution_count": 23,
   "metadata": {},
   "outputs": [
    {
     "data": {
      "text/plain": [
       "<seaborn.axisgrid.FacetGrid at 0x266e2fbe908>"
      ]
     },
     "execution_count": 23,
     "metadata": {},
     "output_type": "execute_result"
    },
    {
     "data": {
      "image/png": "[encoded data removed]",
      "text/plain": [
       "<Figure size 734.875x360 with 1 Axes>"
      ]
     },
     "metadata": {
      "needs_background": "light"
     },
     "output_type": "display_data"
    }
   ],
   "source": [
    "# Se grafican los resultados anteriores\n",
    "g = sns.catplot('is_canceled', data=booking, hue='arrival_date_month', kind='count', aspect=1.75)\n",
    "g.set_xlabels('Estado de la Reservación')"
   ]
  },
  {
   "cell_type": "markdown",
   "metadata": {},
   "source": [
    "Según el mes de arribo en la reservación, el porcentaje de cancelaciones son:\n",
    "Enero => 30% / \n",
    "Febrero => 33% / \n",
    "Marzo => 32% / \n",
    "Abril => 41% / \n",
    "Mayo => 40% / \n",
    "Junio => 41% / \n",
    "Julio => 37% / \n",
    "Agosto => 38% / \n",
    "Setiembre => 39% / \n",
    "Octubre => 38% /\n",
    "Noviembre => 31% /\n",
    "Diciembre => 35%"
   ]
  },
  {
   "cell_type": "code",
   "execution_count": 25,
   "metadata": {},
   "outputs": [
    {
     "name": "stdout",
     "output_type": "stream",
     "text": [
      "***** Estado de la reservación según el segmento del mercado *****\n"
     ]
    },
    {
     "data": {
      "text/plain": [
       "market_segment  is_canceled\n",
       "Aviation        0                185\n",
       "                1                 52\n",
       "Complementary   0                646\n",
       "                1                 97\n",
       "Corporate       0               4303\n",
       "                1                992\n",
       "Direct          0              10672\n",
       "                1               1934\n",
       "Groups          0               7714\n",
       "                1              12097\n",
       "Offline TA/TO   0              15908\n",
       "                1               8311\n",
       "Online TA       0              35738\n",
       "                1              20739\n",
       "Undefined       1                  2\n",
       "Name: market_segment, dtype: int64"
      ]
     },
     "execution_count": 25,
     "metadata": {},
     "output_type": "execute_result"
    }
   ],
   "source": [
    "# Estado de la reservación según el segmento del mercado\n",
    "print('***** Estado de la reservación según el segmento del mercado *****')\n",
    "booking.groupby(['market_segment', 'is_canceled'])['market_segment'].count()"
   ]
  },
  {
   "cell_type": "code",
   "execution_count": 26,
   "metadata": {},
   "outputs": [
    {
     "data": {
      "text/plain": [
       "<seaborn.axisgrid.FacetGrid at 0x266eb7a6bc8>"
      ]
     },
     "execution_count": 26,
     "metadata": {},
     "output_type": "execute_result"
    },
    {
     "data": {
      "image/png": "[encoded data removed]",
      "text/plain": [
       "<Figure size 745.875x360 with 1 Axes>"
      ]
     },
     "metadata": {
      "needs_background": "light"
     },
     "output_type": "display_data"
    }
   ],
   "source": [
    "# Se grafican los resultados anteriores\n",
    "g = sns.catplot('is_canceled', data=booking, hue='market_segment', kind='count', aspect=1.75)\n",
    "g.set_xlabels('Estado de la Reservación')"
   ]
  },
  {
   "cell_type": "code",
   "execution_count": 27,
   "metadata": {},
   "outputs": [
    {
     "name": "stdout",
     "output_type": "stream",
     "text": [
      "***** Estado de la reservación según el canal de distribución *****\n"
     ]
    },
    {
     "data": {
      "text/plain": [
       "distribution_channel  is_canceled\n",
       "Corporate             0               5203\n",
       "                      1               1474\n",
       "Direct                0              12088\n",
       "                      1               2557\n",
       "GDS                   0                156\n",
       "                      1                 37\n",
       "TA/TO                 0              57718\n",
       "                      1              40152\n",
       "Undefined             0                  1\n",
       "                      1                  4\n",
       "Name: distribution_channel, dtype: int64"
      ]
     },
     "execution_count": 27,
     "metadata": {},
     "output_type": "execute_result"
    }
   ],
   "source": [
    "# Estado de la reservación según el canal de distribución\n",
    "print('***** Estado de la reservación según el canal de distribución *****')\n",
    "booking.groupby(['distribution_channel', 'is_canceled'])['distribution_channel'].count()"
   ]
  },
  {
   "cell_type": "code",
   "execution_count": 28,
   "metadata": {},
   "outputs": [
    {
     "data": {
      "text/plain": [
       "<seaborn.axisgrid.FacetGrid at 0x266eb879248>"
      ]
     },
     "execution_count": 28,
     "metadata": {},
     "output_type": "execute_result"
    },
    {
     "data": {
      "image/png": "[encoded data removed]",
      "text/plain": [
       "<Figure size 739.875x360 with 1 Axes>"
      ]
     },
     "metadata": {
      "needs_background": "light"
     },
     "output_type": "display_data"
    }
   ],
   "source": [
    "# Se grafican los resultados anteriores\n",
    "g = sns.catplot('is_canceled', data=booking, hue='distribution_channel', kind='count', aspect=1.75)\n",
    "g.set_xlabels('Estado de la Reservación')"
   ]
  },
  {
   "cell_type": "markdown",
   "metadata": {},
   "source": [
    "Según el canal de distribución, tenemos los siguientes porcentajes de cancelación:\n",
    "Corporativo => 22% / \n",
    "Directo => 17%\n",
    "GDS => 19%\n",
    "Agente de Viaje/Tour Operador => 41%"
   ]
  },
  {
   "cell_type": "code",
   "execution_count": 29,
   "metadata": {},
   "outputs": [
    {
     "name": "stdout",
     "output_type": "stream",
     "text": [
      "***** Estado de la reservación según el tipo de depósito *****\n"
     ]
    },
    {
     "data": {
      "text/plain": [
       "deposit_type  is_canceled\n",
       "No Deposit    0              74947\n",
       "              1              29694\n",
       "Non Refund    0                 93\n",
       "              1              14494\n",
       "Refundable    0                126\n",
       "              1                 36\n",
       "Name: deposit_type, dtype: int64"
      ]
     },
     "execution_count": 29,
     "metadata": {},
     "output_type": "execute_result"
    }
   ],
   "source": [
    "# Estado de la reservación según el tipo de depósito\n",
    "print('***** Estado de la reservación según el tipo de depósito *****')\n",
    "booking.groupby(['deposit_type', 'is_canceled'])['deposit_type'].count()"
   ]
  },
  {
   "cell_type": "code",
   "execution_count": 30,
   "metadata": {},
   "outputs": [
    {
     "data": {
      "text/plain": [
       "<seaborn.axisgrid.FacetGrid at 0x266eb76ad08>"
      ]
     },
     "execution_count": 30,
     "metadata": {},
     "output_type": "execute_result"
    },
    {
     "data": {
      "image/png": "[encoded data removed]",
      "text/plain": [
       "<Figure size 724.75x360 with 1 Axes>"
      ]
     },
     "metadata": {
      "needs_background": "light"
     },
     "output_type": "display_data"
    }
   ],
   "source": [
    "# Se grafican los resultados anteriores\n",
    "g = sns.catplot('is_canceled', data=booking, hue='deposit_type', kind='count', aspect=1.75)\n",
    "g.set_xlabels('Estado de la Reservación')"
   ]
  },
  {
   "cell_type": "markdown",
   "metadata": {},
   "source": [
    "Según el tipo de depósito o pago, tenemos los siguientes porcentajes de cancelación:\n",
    "Sin depósito => 28% / \n",
    "Pago total => 99%\n",
    "Pago parcial => 22%"
   ]
  },
  {
   "cell_type": "code",
   "execution_count": 35,
   "metadata": {},
   "outputs": [
    {
     "name": "stdout",
     "output_type": "stream",
     "text": [
      "***** Estado de la reservación según el tipo de cliente *****\n"
     ]
    },
    {
     "data": {
      "text/plain": [
       "customer_type    is_canceled\n",
       "Contract         0               2814\n",
       "                 1               1262\n",
       "Group            0                518\n",
       "                 1                 59\n",
       "Transient        0              53099\n",
       "                 1              36514\n",
       "Transient-Party  0              18735\n",
       "                 1               6389\n",
       "Name: customer_type, dtype: int64"
      ]
     },
     "execution_count": 35,
     "metadata": {},
     "output_type": "execute_result"
    }
   ],
   "source": [
    "### Estado de la reservación según el tipo de cliente\n",
    "print('***** Estado de la reservación según el tipo de cliente *****')\n",
    "booking.groupby(['customer_type', 'is_canceled'])['customer_type'].count()"
   ]
  },
  {
   "cell_type": "code",
   "execution_count": 34,
   "metadata": {},
   "outputs": [
    {
     "data": {
      "text/plain": [
       "<seaborn.axisgrid.FacetGrid at 0x266ebc3b448>"
      ]
     },
     "execution_count": 34,
     "metadata": {},
     "output_type": "execute_result"
    },
    {
     "data": {
      "image/png": "[encoded data removed]",
      "text/plain": [
       "<Figure size 742.734x360 with 1 Axes>"
      ]
     },
     "metadata": {
      "needs_background": "light"
     },
     "output_type": "display_data"
    }
   ],
   "source": [
    "# Se grafican los resultados anteriores\n",
    "g = sns.catplot('is_canceled', data=booking, hue='customer_type', kind='count', aspect=1.75)\n",
    "g.set_xlabels('Estado de la Reservación')"
   ]
  },
  {
   "cell_type": "markdown",
   "metadata": {},
   "source": [
    "Según el tipo de cliente, tenemos los siguientes resultados:\n",
    "Con contrato asociado => 31% / \n",
    "Asociado a un grupo => 10% / \n",
    "Sin contrato o grupo asociado => 41% / \n",
    "Transitorio => 25%"
   ]
  },
  {
   "cell_type": "markdown",
   "metadata": {},
   "source": [
    "Proceso para la estimación basada en clasificación"
   ]
  },
  {
   "cell_type": "code",
   "execution_count": 46,
   "metadata": {},
   "outputs": [
    {
     "name": "stdout",
     "output_type": "stream",
     "text": [
      "Resumen de la muestra de las caracteríticas\n"
     ]
    },
    {
     "data": {
      "text/html": [
       "<div>\n",
       "<style scoped>\n",
       "    .dataframe tbody tr th:only-of-type {\n",
       "        vertical-align: middle;\n",
       "    }\n",
       "\n",
       "    .dataframe tbody tr th {\n",
       "        vertical-align: top;\n",
       "    }\n",
       "\n",
       "    .dataframe thead th {\n",
       "        text-align: right;\n",
       "    }\n",
       "</style>\n",
       "<table border=\"1\" class=\"dataframe\">\n",
       "  <thead>\n",
       "    <tr style=\"text-align: right;\">\n",
       "      <th></th>\n",
       "      <th>lead_time</th>\n",
       "      <th>stays_in_week_nights</th>\n",
       "      <th>adults</th>\n",
       "      <th>previous_cancellations</th>\n",
       "      <th>days_in_waiting_list</th>\n",
       "      <th>adr</th>\n",
       "    </tr>\n",
       "  </thead>\n",
       "  <tbody>\n",
       "    <tr>\n",
       "      <td>0</td>\n",
       "      <td>3</td>\n",
       "      <td>0</td>\n",
       "      <td>2</td>\n",
       "      <td>0</td>\n",
       "      <td>0</td>\n",
       "      <td>0.0</td>\n",
       "    </tr>\n",
       "    <tr>\n",
       "      <td>1</td>\n",
       "      <td>4</td>\n",
       "      <td>0</td>\n",
       "      <td>2</td>\n",
       "      <td>0</td>\n",
       "      <td>0</td>\n",
       "      <td>0.0</td>\n",
       "    </tr>\n",
       "    <tr>\n",
       "      <td>2</td>\n",
       "      <td>0</td>\n",
       "      <td>1</td>\n",
       "      <td>1</td>\n",
       "      <td>0</td>\n",
       "      <td>0</td>\n",
       "      <td>75.0</td>\n",
       "    </tr>\n",
       "    <tr>\n",
       "      <td>3</td>\n",
       "      <td>0</td>\n",
       "      <td>1</td>\n",
       "      <td>1</td>\n",
       "      <td>0</td>\n",
       "      <td>0</td>\n",
       "      <td>75.0</td>\n",
       "    </tr>\n",
       "    <tr>\n",
       "      <td>4</td>\n",
       "      <td>0</td>\n",
       "      <td>2</td>\n",
       "      <td>2</td>\n",
       "      <td>0</td>\n",
       "      <td>0</td>\n",
       "      <td>98.0</td>\n",
       "    </tr>\n",
       "  </tbody>\n",
       "</table>\n",
       "</div>"
      ],
      "text/plain": [
       "   lead_time  stays_in_week_nights  adults  previous_cancellations  \\\n",
       "0          3                     0       2                       0   \n",
       "1          4                     0       2                       0   \n",
       "2          0                     1       1                       0   \n",
       "3          0                     1       1                       0   \n",
       "4          0                     2       2                       0   \n",
       "\n",
       "   days_in_waiting_list   adr  \n",
       "0                     0   0.0  \n",
       "1                     0   0.0  \n",
       "2                     0  75.0  \n",
       "3                     0  75.0  \n",
       "4                     0  98.0  "
      ]
     },
     "execution_count": 46,
     "metadata": {},
     "output_type": "execute_result"
    }
   ],
   "source": [
    "# Selección de las características\n",
    "#features = credit.iloc[:,1:6]\n",
    "features = booking.loc[:,['lead_time','stays_in_week_nights','adults','previous_cancellations','days_in_waiting_list','adr']]\n",
    "print('Resumen de la muestra de las caracteríticas')\n",
    "features.head()"
   ]
  },
  {
   "cell_type": "code",
   "execution_count": 47,
   "metadata": {},
   "outputs": [
    {
     "name": "stdout",
     "output_type": "stream",
     "text": [
      "0         0\n",
      "1         0\n",
      "2         0\n",
      "3         0\n",
      "4         0\n",
      "         ..\n",
      "119385    0\n",
      "119386    0\n",
      "119387    0\n",
      "119388    0\n",
      "119389    0\n",
      "Name: is_canceled, Length: 119390, dtype: int64\n"
     ]
    }
   ],
   "source": [
    "# Seleccionar la variable ddependiente\n",
    "depVar = booking['is_canceled']\n",
    "print(depVar)"
   ]
  },
  {
   "cell_type": "code",
   "execution_count": 48,
   "metadata": {},
   "outputs": [
    {
     "name": "stdout",
     "output_type": "stream",
     "text": [
      "*** Cantidad de observaciones para entrenamiento(indepenientes):  83573\n",
      "       lead_time  stays_in_week_nights  adults  previous_cancellations  \\\n",
      "74687          3                     1       2                       1   \n",
      "9945           1                     1       2                       0   \n",
      "55623          4                     2       2                       0   \n",
      "83455          0                     1       1                       0   \n",
      "61371          0                     3       2                       0   \n",
      "\n",
      "       days_in_waiting_list    adr  \n",
      "74687                     0   62.8  \n",
      "9945                      0   42.0  \n",
      "55623                     0   62.0  \n",
      "83455                     0   79.0  \n",
      "61371                     0  111.6  \n",
      "*** El número de observaciones para entrenamiento(dependiente):  83573\n",
      "74687    1\n",
      "9945     1\n",
      "55623    1\n",
      "83455    0\n",
      "61371    1\n",
      "Name: is_canceled, dtype: int64\n"
     ]
    }
   ],
   "source": [
    "# Creación de los conjuntos de entrenamiento y pruebas (70/30)\n",
    "X_train, X_test, y_train, y_test = train_test_split(features, depVar, train_size = 0.70, random_state = 123)\n",
    "print('*** Cantidad de observaciones para entrenamiento(indepenientes): ', str(len(X_train)))\n",
    "print(X_train.head())\n",
    "print('*** El número de observaciones para entrenamiento(dependiente): ',str(len(y_train.index)))\n",
    "print(y_train.head())"
   ]
  },
  {
   "cell_type": "code",
   "execution_count": 49,
   "metadata": {},
   "outputs": [
    {
     "name": "stdout",
     "output_type": "stream",
     "text": [
      "*** Cantidad de observaciones para pruebas(indepenientes):  35817\n",
      "       lead_time  stays_in_week_nights  adults  previous_cancellations  \\\n",
      "79204          0                     3       1                       0   \n",
      "73022          1                     2       2                       0   \n",
      "44658          1                     2       1                       0   \n",
      "19217          1                     2       2                       1   \n",
      "45223          0                     1       2                       0   \n",
      "\n",
      "       days_in_waiting_list     adr  \n",
      "79204                     0  134.25  \n",
      "73022                     0  155.00  \n",
      "44658                    50  108.00  \n",
      "19217                     0   79.00  \n",
      "45223                     0   75.00  \n",
      "*** El número de observaciones para pruebas(dependiente):  35817\n",
      "79204    0\n",
      "73022    1\n",
      "44658    0\n",
      "19217    1\n",
      "45223    1\n",
      "Name: is_canceled, dtype: int64\n"
     ]
    }
   ],
   "source": [
    "# Conjunto de pruebas (Testing)\n",
    "print('*** Cantidad de observaciones para pruebas(indepenientes): ',str(len(X_test.index)))\n",
    "print(X_test.head())\n",
    "print('*** El número de observaciones para pruebas(dependiente): ',str(len(y_test.index)))\n",
    "print(y_test.head())"
   ]
  },
  {
   "cell_type": "code",
   "execution_count": 50,
   "metadata": {},
   "outputs": [],
   "source": [
    "#Definición para los modelos a utilizar\n",
    "modelSVC = SVC()\n",
    "modelRF = RandomForestClassifier()\n",
    "modelRC = RidgeClassifier()"
   ]
  },
  {
   "cell_type": "code",
   "execution_count": 51,
   "metadata": {},
   "outputs": [
    {
     "data": {
      "text/plain": [
       "RandomForestClassifier(bootstrap=True, ccp_alpha=0.0, class_weight=None,\n",
       "                       criterion='gini', max_depth=None, max_features='auto',\n",
       "                       max_leaf_nodes=None, max_samples=None,\n",
       "                       min_impurity_decrease=0.0, min_impurity_split=None,\n",
       "                       min_samples_leaf=1, min_samples_split=2,\n",
       "                       min_weight_fraction_leaf=0.0, n_estimators=100,\n",
       "                       n_jobs=None, oob_score=False, random_state=None,\n",
       "                       verbose=0, warm_start=False)"
      ]
     },
     "execution_count": 51,
     "metadata": {},
     "output_type": "execute_result"
    }
   ],
   "source": [
    "# Ejecución de los tres modelos (Random Forest)\n",
    "modelRF.fit(X_train,y_train)"
   ]
  },
  {
   "cell_type": "code",
   "execution_count": 52,
   "metadata": {},
   "outputs": [
    {
     "data": {
      "text/plain": [
       "SVC(C=1.0, break_ties=False, cache_size=200, class_weight=None, coef0=0.0,\n",
       "    decision_function_shape='ovr', degree=3, gamma='scale', kernel='rbf',\n",
       "    max_iter=-1, probability=False, random_state=None, shrinking=True,\n",
       "    tol=0.001, verbose=False)"
      ]
     },
     "execution_count": 52,
     "metadata": {},
     "output_type": "execute_result"
    }
   ],
   "source": [
    "# Support Vector Classification (SVC)\n",
    "modelSVC.fit(X_train,y_train)"
   ]
  },
  {
   "cell_type": "code",
   "execution_count": 53,
   "metadata": {},
   "outputs": [
    {
     "data": {
      "text/plain": [
       "RidgeClassifier(alpha=1.0, class_weight=None, copy_X=True, fit_intercept=True,\n",
       "                max_iter=None, normalize=False, random_state=None,\n",
       "                solver='auto', tol=0.001)"
      ]
     },
     "execution_count": 53,
     "metadata": {},
     "output_type": "execute_result"
    }
   ],
   "source": [
    "# Ridge Classifier\n",
    "modelRC.fit(X_train,y_train)"
   ]
  },
  {
   "cell_type": "markdown",
   "metadata": {},
   "source": [
    "Puntuación y selección del modelo"
   ]
  },
  {
   "cell_type": "code",
   "execution_count": 54,
   "metadata": {},
   "outputs": [],
   "source": [
    "# Carga de la función a utilizar\n",
    "from sklearn.model_selection import cross_val_score"
   ]
  },
  {
   "cell_type": "code",
   "execution_count": 55,
   "metadata": {},
   "outputs": [
    {
     "name": "stdout",
     "output_type": "stream",
     "text": [
      "[0.74974574 0.74759198 0.74980556 0.74715807 0.74757688]\n"
     ]
    },
    {
     "data": {
      "text/plain": [
       "0.8586385555143408"
      ]
     },
     "execution_count": 55,
     "metadata": {},
     "output_type": "execute_result"
    }
   ],
   "source": [
    "# Random Forest\n",
    "print(cross_val_score(modelRF, X_train, y_train))\n",
    "modelRF.score(X_train,y_train)"
   ]
  },
  {
   "cell_type": "code",
   "execution_count": 56,
   "metadata": {},
   "outputs": [
    {
     "name": "stdout",
     "output_type": "stream",
     "text": [
      "[0.67986838 0.67998803 0.68220162 0.68116549 0.68236209]\n"
     ]
    },
    {
     "data": {
      "text/plain": [
       "0.6799205485025068"
      ]
     },
     "execution_count": 56,
     "metadata": {},
     "output_type": "execute_result"
    }
   ],
   "source": [
    "# Support Vector Classification (SVC)\n",
    "print(cross_val_score(modelSVC, X_train, y_train))\n",
    "modelSVC.score(X_train,y_train)"
   ]
  },
  {
   "cell_type": "code",
   "execution_count": 57,
   "metadata": {},
   "outputs": [
    {
     "name": "stdout",
     "output_type": "stream",
     "text": [
      "[0.67544122 0.67574035 0.6767574  0.67578078 0.67320809]\n"
     ]
    },
    {
     "data": {
      "text/plain": [
       "0.6750744857788998"
      ]
     },
     "execution_count": 57,
     "metadata": {},
     "output_type": "execute_result"
    }
   ],
   "source": [
    "# Ridge Classifier\n",
    "print(cross_val_score(modelRC, X_train, y_train))\n",
    "modelRC.score(X_train,y_train)"
   ]
  },
  {
   "cell_type": "markdown",
   "metadata": {},
   "source": [
    "El modelo con el mayor puntaje es el Random Forest. Este se podría utilizar para obtener resultados de clasificación"
   ]
  },
  {
   "cell_type": "markdown",
   "metadata": {},
   "source": [
    "Evaluación del modelo"
   ]
  },
  {
   "cell_type": "code",
   "execution_count": 58,
   "metadata": {},
   "outputs": [],
   "source": [
    "# Haciendo las predicciones\n",
    "predictions = modelRF.predict(X_test)"
   ]
  },
  {
   "cell_type": "code",
   "execution_count": 59,
   "metadata": {},
   "outputs": [],
   "source": [
    "## Evaluando los resultados\n",
    "# Cálculo del RMSE\n",
    "rmse = sqrt(mean_squared_error(y_test, predictions))\n",
    "predRsquared = r2_score(y_test,predictions)"
   ]
  },
  {
   "cell_type": "code",
   "execution_count": 60,
   "metadata": {},
   "outputs": [
    {
     "name": "stdout",
     "output_type": "stream",
     "text": [
      "R Squared: -0.060\n",
      "RMSE: 0.497\n"
     ]
    }
   ],
   "source": [
    "# Cálculos\n",
    "predictions = modelRF.predict(X_test)\n",
    "predRsquared = r2_score(y_test,predictions)\n",
    "rmse = sqrt(mean_squared_error(y_test, predictions))\n",
    "print('R Squared: %.3f' % predRsquared)\n",
    "print('RMSE: %.3f' % rmse)"
   ]
  },
  {
   "cell_type": "code",
   "execution_count": 61,
   "metadata": {},
   "outputs": [
    {
     "data": {
      "image/png": "[encoded data removed]",
      "text/plain": [
       "<Figure size 432x288 with 1 Axes>"
      ]
     },
     "metadata": {
      "needs_background": "light"
     },
     "output_type": "display_data"
    }
   ],
   "source": [
    "# Graficando los resultados\n",
    "plt.scatter(y_test, predictions, alpha = 0.5) #, color=['blue','green'])\n",
    "plt.xlabel('Ground Truth')\n",
    "plt.ylabel('Predictions')\n",
    "plt.show();"
   ]
  }
 ],
 "metadata": {
  "kernelspec": {
   "display_name": "Python 3",
   "language": "python",
   "name": "python3"
  },
  "language_info": {
   "codemirror_mode": {
    "name": "ipython",
    "version": 3
   },
   "file_extension": ".py",
   "mimetype": "text/x-python",
   "name": "python",
   "nbconvert_exporter": "python",
   "pygments_lexer": "ipython3",
   "version": "3.7.4"
  }
 },
 "nbformat": 4,
 "nbformat_minor": 2
}
